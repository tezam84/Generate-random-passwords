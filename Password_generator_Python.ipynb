{
 "cells": [
  {
   "cell_type": "code",
   "execution_count": 2,
   "id": "dc2a92ee",
   "metadata": {},
   "outputs": [
    {
     "name": "stdout",
     "output_type": "stream",
     "text": [
      "Welcome to Password generator\n",
      "\n",
      "Enter the length of password: 20\n",
      "auV@>FZ+7'.*B[Mo?lD\"\n"
     ]
    }
   ],
   "source": [
    "# Import the necessary modules\n",
    "import secrets\n",
    "import string\n",
    "\n",
    "print('Welcome to Password generator')\n",
    "\n",
    "#Input the length of password\n",
    "length = int(input('\\nEnter the length of password: '))                      \n",
    "\n",
    "#Define data\n",
    "lower = string.ascii_lowercase\n",
    "upper = string.ascii_uppercase\n",
    "num = string.digits\n",
    "symbols = string.punctuation\n",
    "\n",
    "# Combine the data\n",
    "all = lower + upper + num + symbols\n",
    "\n",
    "#Use secrets\n",
    "\n",
    "password = ''.join(secrets.choice(all) for i in range(length))  \n",
    "\n",
    "#Print the password\n",
    "print(password)"
   ]
  },
  {
   "cell_type": "code",
   "execution_count": null,
   "id": "a9b7fc92",
   "metadata": {},
   "outputs": [],
   "source": []
  }
 ],
 "metadata": {
  "kernelspec": {
   "display_name": "Python 3 (ipykernel)",
   "language": "python",
   "name": "python3"
  },
  "language_info": {
   "codemirror_mode": {
    "name": "ipython",
    "version": 3
   },
   "file_extension": ".py",
   "mimetype": "text/x-python",
   "name": "python",
   "nbconvert_exporter": "python",
   "pygments_lexer": "ipython3",
   "version": "3.9.7"
  }
 },
 "nbformat": 4,
 "nbformat_minor": 5
}
